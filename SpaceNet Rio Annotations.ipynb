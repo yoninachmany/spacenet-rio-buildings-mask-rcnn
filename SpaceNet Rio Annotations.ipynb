{
 "cells": [
  {
   "cell_type": "code",
   "execution_count": 1,
   "metadata": {},
   "outputs": [],
   "source": [
    "import numpy as np\n",
    "import pandas as pd"
   ]
  },
  {
   "cell_type": "code",
   "execution_count": 2,
   "metadata": {},
   "outputs": [
    {
     "name": "stdout",
     "output_type": "stream",
     "text": [
      "(255881, 4)\n"
     ]
    },
    {
     "data": {
      "text/html": [
       "<div>\n",
       "<style scoped>\n",
       "    .dataframe tbody tr th:only-of-type {\n",
       "        vertical-align: middle;\n",
       "    }\n",
       "\n",
       "    .dataframe tbody tr th {\n",
       "        vertical-align: top;\n",
       "    }\n",
       "\n",
       "    .dataframe thead th {\n",
       "        text-align: right;\n",
       "    }\n",
       "</style>\n",
       "<table border=\"1\" class=\"dataframe\">\n",
       "  <thead>\n",
       "    <tr style=\"text-align: right;\">\n",
       "      <th></th>\n",
       "      <th>ImageId</th>\n",
       "      <th>BuildingId</th>\n",
       "      <th>PolygonWKT_Pix</th>\n",
       "      <th>PolygonWKT_Geo</th>\n",
       "    </tr>\n",
       "  </thead>\n",
       "  <tbody>\n",
       "    <tr>\n",
       "      <th>0</th>\n",
       "      <td>AOI_1_RIO_img5792</td>\n",
       "      <td>1</td>\n",
       "      <td>POLYGON ((408.210510077716208 39.5679995656149...</td>\n",
       "      <td>POLYGON ((-43.541791399999966 -22.876368899999...</td>\n",
       "    </tr>\n",
       "    <tr>\n",
       "      <th>1</th>\n",
       "      <td>AOI_1_RIO_img5792</td>\n",
       "      <td>2</td>\n",
       "      <td>POLYGON ((389.833864435032297 42.6174620222885...</td>\n",
       "      <td>POLYGON ((-43.541873799999962 -22.876382599999...</td>\n",
       "    </tr>\n",
       "    <tr>\n",
       "      <th>2</th>\n",
       "      <td>AOI_1_RIO_img5792</td>\n",
       "      <td>3</td>\n",
       "      <td>POLYGON ((242.119589264420313 -0.0000059554636...</td>\n",
       "      <td>POLYGON ((-43.542536143743767 -22.876191136973...</td>\n",
       "    </tr>\n",
       "    <tr>\n",
       "      <th>3</th>\n",
       "      <td>AOI_1_RIO_img5792</td>\n",
       "      <td>4</td>\n",
       "      <td>POLYGON ((311.733120444117787 216.147456877115...</td>\n",
       "      <td>POLYGON ((-43.542224 -22.8771622 0,-43.5421641...</td>\n",
       "    </tr>\n",
       "    <tr>\n",
       "      <th>4</th>\n",
       "      <td>AOI_1_RIO_img5792</td>\n",
       "      <td>5</td>\n",
       "      <td>POLYGON ((350.582776650603819 112.220886068182...</td>\n",
       "      <td>POLYGON ((-43.542049799999972 -22.876695299999...</td>\n",
       "    </tr>\n",
       "  </tbody>\n",
       "</table>\n",
       "</div>"
      ],
      "text/plain": [
       "             ImageId  BuildingId  \\\n",
       "0  AOI_1_RIO_img5792           1   \n",
       "1  AOI_1_RIO_img5792           2   \n",
       "2  AOI_1_RIO_img5792           3   \n",
       "3  AOI_1_RIO_img5792           4   \n",
       "4  AOI_1_RIO_img5792           5   \n",
       "\n",
       "                                      PolygonWKT_Pix  \\\n",
       "0  POLYGON ((408.210510077716208 39.5679995656149...   \n",
       "1  POLYGON ((389.833864435032297 42.6174620222885...   \n",
       "2  POLYGON ((242.119589264420313 -0.0000059554636...   \n",
       "3  POLYGON ((311.733120444117787 216.147456877115...   \n",
       "4  POLYGON ((350.582776650603819 112.220886068182...   \n",
       "\n",
       "                                      PolygonWKT_Geo  \n",
       "0  POLYGON ((-43.541791399999966 -22.876368899999...  \n",
       "1  POLYGON ((-43.541873799999962 -22.876382599999...  \n",
       "2  POLYGON ((-43.542536143743767 -22.876191136973...  \n",
       "3  POLYGON ((-43.542224 -22.8771622 0,-43.5421641...  \n",
       "4  POLYGON ((-43.542049799999972 -22.876695299999...  "
      ]
     },
     "execution_count": 2,
     "metadata": {},
     "output_type": "execute_result"
    }
   ],
   "source": [
    "df = pd.read_csv('data/processedBuildingLabels/summarydata/AOI_1_RIO_polygons_solution_3band.csv')\n",
    "print(df.shape)\n",
    "df.head()"
   ]
  },
  {
   "cell_type": "code",
   "execution_count": 3,
   "metadata": {},
   "outputs": [
    {
     "name": "stdout",
     "output_type": "stream",
     "text": [
      "2630\n"
     ]
    }
   ],
   "source": [
    "print(np.count_nonzero(df['PolygonWKT_Pix'] == 'POLYGON EMPTY'))"
   ]
  },
  {
   "cell_type": "code",
   "execution_count": 4,
   "metadata": {},
   "outputs": [
    {
     "data": {
      "text/plain": [
       "(253251, 4)"
      ]
     },
     "execution_count": 4,
     "metadata": {},
     "output_type": "execute_result"
    }
   ],
   "source": [
    "df = df[df['PolygonWKT_Pix'] != 'POLYGON EMPTY']\n",
    "df.shape"
   ]
  },
  {
   "cell_type": "markdown",
   "metadata": {},
   "source": [
    "# Train-Val Split"
   ]
  },
  {
   "cell_type": "code",
   "execution_count": 5,
   "metadata": {},
   "outputs": [
    {
     "name": "stdout",
     "output_type": "stream",
     "text": [
      "4310\n"
     ]
    }
   ],
   "source": [
    "import random\n",
    "random.seed(5678)\n",
    "image_ids = sorted(df['ImageId'].unique())\n",
    "print(len(image_ids))\n",
    "random.shuffle(image_ids)"
   ]
  },
  {
   "cell_type": "code",
   "execution_count": 6,
   "metadata": {},
   "outputs": [
    {
     "name": "stdout",
     "output_type": "stream",
     "text": [
      "len(train_ids): 3448\n",
      "len(val_ids): 862\n"
     ]
    }
   ],
   "source": [
    "split_ratio = 0.8\n",
    "num_train_ids = round(len(image_ids) * split_ratio)\n",
    "train_ids = image_ids[0:num_train_ids]\n",
    "print('len(train_ids): {}'.format(len(train_ids)))\n",
    "val_ids = image_ids[num_train_ids:]\n",
    "print('len(val_ids): {}'.format(len(val_ids)))\n",
    "\n",
    "df['val'] = df['ImageId'].isin(val_ids)"
   ]
  },
  {
   "cell_type": "code",
   "execution_count": 7,
   "metadata": {},
   "outputs": [
    {
     "name": "stdout",
     "output_type": "stream",
     "text": [
      "len(small_train_ids): 103\n",
      "len(small_val_ids): 25\n"
     ]
    }
   ],
   "source": [
    "# From CrowdAI val: 60317 all, 1820 small (0.03).\n",
    "small_frac = 0.03\n",
    "small_train_ids = train_ids[:int(small_frac*len(train_ids))]\n",
    "print('len(small_train_ids): {}'.format(len(small_train_ids)))\n",
    "small_val_ids = val_ids[:int(small_frac*len(val_ids))]\n",
    "print('len(small_val_ids): {}'.format(len(small_val_ids)))"
   ]
  },
  {
   "cell_type": "code",
   "execution_count": 8,
   "metadata": {},
   "outputs": [
    {
     "name": "stdout",
     "output_type": "stream",
     "text": [
      "len(train_df): 203245\n",
      "len(val_df): 50006\n"
     ]
    }
   ],
   "source": [
    "train_df = df[df['ImageId'].isin(train_ids)]\n",
    "print('len(train_df): {}'.format(len(train_df)))\n",
    "val_df = df[df['ImageId'].isin(val_ids)]\n",
    "print('len(val_df): {}'.format(len(val_df)))"
   ]
  },
  {
   "cell_type": "code",
   "execution_count": 9,
   "metadata": {},
   "outputs": [
    {
     "name": "stdout",
     "output_type": "stream",
     "text": [
      "len(small_train_df): 5749\n",
      "len(small_val_df): 1026\n"
     ]
    }
   ],
   "source": [
    "small_train_df = df[df['ImageId'].isin(small_train_ids)]\n",
    "print('len(small_train_df): {}'.format(len(small_train_df)))\n",
    "small_val_df = df[df['ImageId'].isin(small_val_ids)]\n",
    "print('len(small_val_df): {}'.format(len(small_val_df)))"
   ]
  },
  {
   "cell_type": "markdown",
   "metadata": {},
   "source": [
    "# EDA (pixel coordinates)"
   ]
  },
  {
   "cell_type": "code",
   "execution_count": 10,
   "metadata": {},
   "outputs": [
    {
     "name": "stdout",
     "output_type": "stream",
     "text": [
      "(203245, 5)\n"
     ]
    },
    {
     "data": {
      "text/html": [
       "<div>\n",
       "<style scoped>\n",
       "    .dataframe tbody tr th:only-of-type {\n",
       "        vertical-align: middle;\n",
       "    }\n",
       "\n",
       "    .dataframe tbody tr th {\n",
       "        vertical-align: top;\n",
       "    }\n",
       "\n",
       "    .dataframe thead th {\n",
       "        text-align: right;\n",
       "    }\n",
       "</style>\n",
       "<table border=\"1\" class=\"dataframe\">\n",
       "  <thead>\n",
       "    <tr style=\"text-align: right;\">\n",
       "      <th></th>\n",
       "      <th>ImageId</th>\n",
       "      <th>BuildingId</th>\n",
       "      <th>PolygonWKT_Pix</th>\n",
       "      <th>PolygonWKT_Geo</th>\n",
       "      <th>val</th>\n",
       "    </tr>\n",
       "  </thead>\n",
       "  <tbody>\n",
       "    <tr>\n",
       "      <th>0</th>\n",
       "      <td>AOI_1_RIO_img5792</td>\n",
       "      <td>1</td>\n",
       "      <td>POLYGON ((408.210510077716208 39.5679995656149...</td>\n",
       "      <td>POLYGON ((-43.541791399999966 -22.876368899999...</td>\n",
       "      <td>False</td>\n",
       "    </tr>\n",
       "    <tr>\n",
       "      <th>1</th>\n",
       "      <td>AOI_1_RIO_img5792</td>\n",
       "      <td>2</td>\n",
       "      <td>POLYGON ((389.833864435032297 42.6174620222885...</td>\n",
       "      <td>POLYGON ((-43.541873799999962 -22.876382599999...</td>\n",
       "      <td>False</td>\n",
       "    </tr>\n",
       "    <tr>\n",
       "      <th>2</th>\n",
       "      <td>AOI_1_RIO_img5792</td>\n",
       "      <td>3</td>\n",
       "      <td>POLYGON ((242.119589264420313 -0.0000059554636...</td>\n",
       "      <td>POLYGON ((-43.542536143743767 -22.876191136973...</td>\n",
       "      <td>False</td>\n",
       "    </tr>\n",
       "    <tr>\n",
       "      <th>3</th>\n",
       "      <td>AOI_1_RIO_img5792</td>\n",
       "      <td>4</td>\n",
       "      <td>POLYGON ((311.733120444117787 216.147456877115...</td>\n",
       "      <td>POLYGON ((-43.542224 -22.8771622 0,-43.5421641...</td>\n",
       "      <td>False</td>\n",
       "    </tr>\n",
       "    <tr>\n",
       "      <th>4</th>\n",
       "      <td>AOI_1_RIO_img5792</td>\n",
       "      <td>5</td>\n",
       "      <td>POLYGON ((350.582776650603819 112.220886068182...</td>\n",
       "      <td>POLYGON ((-43.542049799999972 -22.876695299999...</td>\n",
       "      <td>False</td>\n",
       "    </tr>\n",
       "  </tbody>\n",
       "</table>\n",
       "</div>"
      ],
      "text/plain": [
       "             ImageId  BuildingId  \\\n",
       "0  AOI_1_RIO_img5792           1   \n",
       "1  AOI_1_RIO_img5792           2   \n",
       "2  AOI_1_RIO_img5792           3   \n",
       "3  AOI_1_RIO_img5792           4   \n",
       "4  AOI_1_RIO_img5792           5   \n",
       "\n",
       "                                      PolygonWKT_Pix  \\\n",
       "0  POLYGON ((408.210510077716208 39.5679995656149...   \n",
       "1  POLYGON ((389.833864435032297 42.6174620222885...   \n",
       "2  POLYGON ((242.119589264420313 -0.0000059554636...   \n",
       "3  POLYGON ((311.733120444117787 216.147456877115...   \n",
       "4  POLYGON ((350.582776650603819 112.220886068182...   \n",
       "\n",
       "                                      PolygonWKT_Geo    val  \n",
       "0  POLYGON ((-43.541791399999966 -22.876368899999...  False  \n",
       "1  POLYGON ((-43.541873799999962 -22.876382599999...  False  \n",
       "2  POLYGON ((-43.542536143743767 -22.876191136973...  False  \n",
       "3  POLYGON ((-43.542224 -22.8771622 0,-43.5421641...  False  \n",
       "4  POLYGON ((-43.542049799999972 -22.876695299999...  False  "
      ]
     },
     "execution_count": 10,
     "metadata": {},
     "output_type": "execute_result"
    }
   ],
   "source": [
    "print(train_df.shape)\n",
    "train_df.head()"
   ]
  },
  {
   "cell_type": "code",
   "execution_count": 11,
   "metadata": {},
   "outputs": [
    {
     "data": {
      "text/plain": [
       "count    3448.000000\n",
       "mean       58.945766\n",
       "std        60.207539\n",
       "min         1.000000\n",
       "25%         7.000000\n",
       "50%        35.000000\n",
       "75%       104.000000\n",
       "max       305.000000\n",
       "Name: BuildingId, dtype: float64"
      ]
     },
     "execution_count": 11,
     "metadata": {},
     "output_type": "execute_result"
    }
   ],
   "source": [
    "# Building counts by image?\n",
    "train_df.groupby('ImageId').count().describe()['BuildingId']"
   ]
  },
  {
   "cell_type": "code",
   "execution_count": 12,
   "metadata": {},
   "outputs": [],
   "source": [
    "from shapely.wkt import loads\n",
    "polygons = train_df['PolygonWKT_Pix'].apply(loads)"
   ]
  },
  {
   "cell_type": "code",
   "execution_count": 13,
   "metadata": {},
   "outputs": [
    {
     "name": "stderr",
     "output_type": "stream",
     "text": [
      "/home/yoninachmany/.local/lib/python3.5/site-packages/ipykernel_launcher.py:2: SettingWithCopyWarning: \n",
      "A value is trying to be set on a copy of a slice from a DataFrame.\n",
      "Try using .loc[row_indexer,col_indexer] = value instead\n",
      "\n",
      "See the caveats in the documentation: http://pandas.pydata.org/pandas-docs/stable/indexing.html#indexing-view-versus-copy\n",
      "  \n"
     ]
    },
    {
     "data": {
      "text/plain": [
       "count    203245.000000\n",
       "mean        436.921027\n",
       "std        1072.827927\n",
       "min           0.000001\n",
       "25%         190.154617\n",
       "50%         329.352779\n",
       "75%         510.826394\n",
       "max      136116.622575\n",
       "Name: areas, dtype: float64"
      ]
     },
     "execution_count": 13,
     "metadata": {},
     "output_type": "execute_result"
    }
   ],
   "source": [
    "# Building areas?\n",
    "train_df['areas'] = [polygon.area for polygon in polygons]\n",
    "train_df['areas'].describe()"
   ]
  },
  {
   "cell_type": "code",
   "execution_count": 14,
   "metadata": {},
   "outputs": [
    {
     "name": "stderr",
     "output_type": "stream",
     "text": [
      "/home/yoninachmany/.local/lib/python3.5/site-packages/ipykernel_launcher.py:2: SettingWithCopyWarning: \n",
      "A value is trying to be set on a copy of a slice from a DataFrame.\n",
      "Try using .loc[row_indexer,col_indexer] = value instead\n",
      "\n",
      "See the caveats in the documentation: http://pandas.pydata.org/pandas-docs/stable/indexing.html#indexing-view-versus-copy\n",
      "  \n"
     ]
    },
    {
     "data": {
      "text/plain": [
       "count    203245.000000\n",
       "mean         81.340062\n",
       "std          44.609635\n",
       "min           0.005249\n",
       "25%          58.518336\n",
       "50%          76.581172\n",
       "75%          96.259976\n",
       "max        2219.464081\n",
       "Name: length, dtype: float64"
      ]
     },
     "execution_count": 14,
     "metadata": {},
     "output_type": "execute_result"
    }
   ],
   "source": [
    "# Building lengths?\n",
    "train_df['length'] = [polygon.length for polygon in polygons]\n",
    "train_df['length'].describe()"
   ]
  },
  {
   "cell_type": "code",
   "execution_count": 15,
   "metadata": {},
   "outputs": [],
   "source": [
    "bboxes = [polygon.bounds for polygon in polygons]"
   ]
  },
  {
   "cell_type": "code",
   "execution_count": 16,
   "metadata": {},
   "outputs": [
    {
     "name": "stderr",
     "output_type": "stream",
     "text": [
      "/home/yoninachmany/.local/lib/python3.5/site-packages/ipykernel_launcher.py:2: SettingWithCopyWarning: \n",
      "A value is trying to be set on a copy of a slice from a DataFrame.\n",
      "Try using .loc[row_indexer,col_indexer] = value instead\n",
      "\n",
      "See the caveats in the documentation: http://pandas.pydata.org/pandas-docs/stable/indexing.html#indexing-view-versus-copy\n",
      "  \n"
     ]
    },
    {
     "data": {
      "text/plain": [
       "count    203245.000000\n",
       "mean         25.289497\n",
       "std          14.419576\n",
       "min           0.000428\n",
       "25%          17.247492\n",
       "50%          23.611475\n",
       "75%          30.894192\n",
       "max         439.000006\n",
       "Name: widths, dtype: float64"
      ]
     },
     "execution_count": 16,
     "metadata": {},
     "output_type": "execute_result"
    }
   ],
   "source": [
    "# Building widths?\n",
    "train_df['widths'] = [bbox[2] - bbox[0] for bbox in bboxes]\n",
    "train_df['widths'].describe()"
   ]
  },
  {
   "cell_type": "code",
   "execution_count": 17,
   "metadata": {},
   "outputs": [
    {
     "name": "stderr",
     "output_type": "stream",
     "text": [
      "/home/yoninachmany/.local/lib/python3.5/site-packages/ipykernel_launcher.py:2: SettingWithCopyWarning: \n",
      "A value is trying to be set on a copy of a slice from a DataFrame.\n",
      "Try using .loc[row_indexer,col_indexer] = value instead\n",
      "\n",
      "See the caveats in the documentation: http://pandas.pydata.org/pandas-docs/stable/indexing.html#indexing-view-versus-copy\n",
      "  \n"
     ]
    },
    {
     "data": {
      "text/plain": [
       "count    203245.000000\n",
       "mean         23.917856\n",
       "std          13.689699\n",
       "min           0.001529\n",
       "25%          16.288957\n",
       "50%          22.390246\n",
       "75%          29.388162\n",
       "max         406.000004\n",
       "Name: heights, dtype: float64"
      ]
     },
     "execution_count": 17,
     "metadata": {},
     "output_type": "execute_result"
    }
   ],
   "source": [
    "# Buildings heights?\n",
    "train_df['heights'] = [bbox[3] - bbox[1] for bbox in bboxes]\n",
    "train_df['heights'].describe()"
   ]
  },
  {
   "cell_type": "code",
   "execution_count": 18,
   "metadata": {},
   "outputs": [
    {
     "data": {
      "text/html": [
       "<div>\n",
       "<style scoped>\n",
       "    .dataframe tbody tr th:only-of-type {\n",
       "        vertical-align: middle;\n",
       "    }\n",
       "\n",
       "    .dataframe tbody tr th {\n",
       "        vertical-align: top;\n",
       "    }\n",
       "\n",
       "    .dataframe thead th {\n",
       "        text-align: right;\n",
       "    }\n",
       "</style>\n",
       "<table border=\"1\" class=\"dataframe\">\n",
       "  <thead>\n",
       "    <tr style=\"text-align: right;\">\n",
       "      <th></th>\n",
       "      <th>ImageId</th>\n",
       "      <th>BuildingId</th>\n",
       "      <th>PolygonWKT_Pix</th>\n",
       "      <th>PolygonWKT_Geo</th>\n",
       "      <th>val</th>\n",
       "      <th>areas</th>\n",
       "      <th>length</th>\n",
       "      <th>widths</th>\n",
       "      <th>heights</th>\n",
       "    </tr>\n",
       "  </thead>\n",
       "  <tbody>\n",
       "    <tr>\n",
       "      <th>0</th>\n",
       "      <td>AOI_1_RIO_img5792</td>\n",
       "      <td>1</td>\n",
       "      <td>POLYGON ((408.210510077716208 39.5679995656149...</td>\n",
       "      <td>POLYGON ((-43.541791399999966 -22.876368899999...</td>\n",
       "      <td>False</td>\n",
       "      <td>515.444317</td>\n",
       "      <td>99.571710</td>\n",
       "      <td>30.107368</td>\n",
       "      <td>25.130242</td>\n",
       "    </tr>\n",
       "    <tr>\n",
       "      <th>1</th>\n",
       "      <td>AOI_1_RIO_img5792</td>\n",
       "      <td>2</td>\n",
       "      <td>POLYGON ((389.833864435032297 42.6174620222885...</td>\n",
       "      <td>POLYGON ((-43.541873799999962 -22.876382599999...</td>\n",
       "      <td>False</td>\n",
       "      <td>992.831749</td>\n",
       "      <td>145.971933</td>\n",
       "      <td>34.166288</td>\n",
       "      <td>42.336333</td>\n",
       "    </tr>\n",
       "    <tr>\n",
       "      <th>2</th>\n",
       "      <td>AOI_1_RIO_img5792</td>\n",
       "      <td>3</td>\n",
       "      <td>POLYGON ((242.119589264420313 -0.0000059554636...</td>\n",
       "      <td>POLYGON ((-43.542536143743767 -22.876191136973...</td>\n",
       "      <td>False</td>\n",
       "      <td>3.904188</td>\n",
       "      <td>15.998015</td>\n",
       "      <td>7.522984</td>\n",
       "      <td>1.037936</td>\n",
       "    </tr>\n",
       "    <tr>\n",
       "      <th>3</th>\n",
       "      <td>AOI_1_RIO_img5792</td>\n",
       "      <td>4</td>\n",
       "      <td>POLYGON ((311.733120444117787 216.147456877115...</td>\n",
       "      <td>POLYGON ((-43.542224 -22.8771622 0,-43.5421641...</td>\n",
       "      <td>False</td>\n",
       "      <td>315.181531</td>\n",
       "      <td>73.780407</td>\n",
       "      <td>16.882428</td>\n",
       "      <td>24.907653</td>\n",
       "    </tr>\n",
       "    <tr>\n",
       "      <th>4</th>\n",
       "      <td>AOI_1_RIO_img5792</td>\n",
       "      <td>5</td>\n",
       "      <td>POLYGON ((350.582776650603819 112.220886068182...</td>\n",
       "      <td>POLYGON ((-43.542049799999972 -22.876695299999...</td>\n",
       "      <td>False</td>\n",
       "      <td>324.217211</td>\n",
       "      <td>75.187899</td>\n",
       "      <td>16.525600</td>\n",
       "      <td>25.464124</td>\n",
       "    </tr>\n",
       "  </tbody>\n",
       "</table>\n",
       "</div>"
      ],
      "text/plain": [
       "             ImageId  BuildingId  \\\n",
       "0  AOI_1_RIO_img5792           1   \n",
       "1  AOI_1_RIO_img5792           2   \n",
       "2  AOI_1_RIO_img5792           3   \n",
       "3  AOI_1_RIO_img5792           4   \n",
       "4  AOI_1_RIO_img5792           5   \n",
       "\n",
       "                                      PolygonWKT_Pix  \\\n",
       "0  POLYGON ((408.210510077716208 39.5679995656149...   \n",
       "1  POLYGON ((389.833864435032297 42.6174620222885...   \n",
       "2  POLYGON ((242.119589264420313 -0.0000059554636...   \n",
       "3  POLYGON ((311.733120444117787 216.147456877115...   \n",
       "4  POLYGON ((350.582776650603819 112.220886068182...   \n",
       "\n",
       "                                      PolygonWKT_Geo    val       areas  \\\n",
       "0  POLYGON ((-43.541791399999966 -22.876368899999...  False  515.444317   \n",
       "1  POLYGON ((-43.541873799999962 -22.876382599999...  False  992.831749   \n",
       "2  POLYGON ((-43.542536143743767 -22.876191136973...  False    3.904188   \n",
       "3  POLYGON ((-43.542224 -22.8771622 0,-43.5421641...  False  315.181531   \n",
       "4  POLYGON ((-43.542049799999972 -22.876695299999...  False  324.217211   \n",
       "\n",
       "       length     widths    heights  \n",
       "0   99.571710  30.107368  25.130242  \n",
       "1  145.971933  34.166288  42.336333  \n",
       "2   15.998015   7.522984   1.037936  \n",
       "3   73.780407  16.882428  24.907653  \n",
       "4   75.187899  16.525600  25.464124  "
      ]
     },
     "execution_count": 18,
     "metadata": {},
     "output_type": "execute_result"
    }
   ],
   "source": [
    "train_df.head()"
   ]
  },
  {
   "cell_type": "markdown",
   "metadata": {},
   "source": [
    "# Annotations"
   ]
  },
  {
   "cell_type": "code",
   "execution_count": 19,
   "metadata": {},
   "outputs": [],
   "source": [
    "import os\n",
    "\n",
    "TRAIN_DIRECTORY = \"data/train\"\n",
    "if not os.path.exists(TRAIN_DIRECTORY):\n",
    "    os.mkdir(TRAIN_DIRECTORY)\n",
    "    \n",
    "VAL_DIRECTORY = \"data/train\"\n",
    "if not os.path.exists(VAL_DIRECTORY):\n",
    "    os.mkdir(VAL_DIRECTORY)"
   ]
  },
  {
   "cell_type": "code",
   "execution_count": 20,
   "metadata": {},
   "outputs": [],
   "source": [
    "categories = [{'id': 100, 'name': 'building', 'supercategory': 'building'}]"
   ]
  },
  {
   "cell_type": "code",
   "execution_count": 21,
   "metadata": {},
   "outputs": [],
   "source": [
    "info = \\\n",
    "{'about': ' Challenge 1 - Rio De Janeiro Building Footprints',\n",
    " 'contributor': 'spacenet.ai',\n",
    " 'description': 'The first SpaceNet challenge in 2016 aimed to extract building footprints from the DigitalGlobe WorldView 2 satellite imagery at 50cm resolution.',\n",
    " 'url': 'https://spacenet.ai/spacenet-buildings-dataset-v1',\n",
    " 'version': '1.0',\n",
    " 'year': 2016}"
   ]
  },
  {
   "cell_type": "code",
   "execution_count": 22,
   "metadata": {},
   "outputs": [],
   "source": [
    "train_annotations = {\"info\": info, \"categories\": categories}\n",
    "val_annotations = {\"info\": info, \"categories\": categories}\n",
    "small_train_annotations = {\"info\": info, \"categories\": categories}\n",
    "small_val_annotations = {\"info\": info, \"categories\": categories}"
   ]
  },
  {
   "cell_type": "code",
   "execution_count": 23,
   "metadata": {},
   "outputs": [],
   "source": [
    "import shutil\n",
    "from PIL import Image\n",
    "def get_images(image_ids, split, copy=False):\n",
    "    images = []\n",
    "    for image_id in image_ids:\n",
    "        id = int(image_id.replace('AOI_1_RIO_img', ''))\n",
    "        file_name = '3band_{}.tif'.format(image_id)\n",
    "        \n",
    "        in_file_path = 'data/processedBuildingLabels/3band/{}'.format(file_name)\n",
    "        im = Image.open(in_file_path)\n",
    "        width, height = im.size\n",
    "\n",
    "        image = {'file_name': file_name, 'height': height, 'id': id, 'width': width}\n",
    "\n",
    "        if copy:\n",
    "            out_file_path = 'data/{}/images/{}'.format(split, file_name)\n",
    "            shutil.copy2(in_file_path, out_file_path)\n",
    "        \n",
    "        images.append(image)\n",
    "    return images"
   ]
  },
  {
   "cell_type": "code",
   "execution_count": 24,
   "metadata": {},
   "outputs": [],
   "source": [
    "train_annotations[\"images\"] = get_images(train_ids, 'train')\n",
    "val_annotations[\"images\"] = get_images(val_ids, 'val')\n",
    "small_train_annotations[\"images\"] = get_images(small_train_ids, 'train')\n",
    "small_val_annotations[\"images\"] = get_images(small_val_ids, 'val')"
   ]
  },
  {
   "cell_type": "code",
   "execution_count": 25,
   "metadata": {},
   "outputs": [],
   "source": [
    "import matplotlib.pyplot as plt\n",
    "def get_means(image_ids):\n",
    "    all_means = []\n",
    "    for i, image_id in enumerate(image_ids):        \n",
    "        file_path = 'data/processedBuildingLabels/3band/3band_{}.tif'.format(image_id)\n",
    "        img = plt.imread(file_path)\n",
    "        means = img.reshape(-1, 3).mean(axis=0)\n",
    "        all_means.append(means)\n",
    "    all_means = np.array(all_means)\n",
    "    return all_means.mean(axis=0)"
   ]
  },
  {
   "cell_type": "code",
   "execution_count": 26,
   "metadata": {},
   "outputs": [
    {
     "data": {
      "text/plain": [
       "array([81.16231469, 86.53528546, 64.72005973])"
      ]
     },
     "execution_count": 26,
     "metadata": {},
     "output_type": "execute_result"
    }
   ],
   "source": [
    "train_means = get_means(train_ids)\n",
    "train_means"
   ]
  },
  {
   "cell_type": "code",
   "execution_count": 27,
   "metadata": {},
   "outputs": [],
   "source": [
    "def get_annotations(df):\n",
    "    annotations = []\n",
    "    for id, (image_id, polygonwkt_pix) in enumerate(zip(df['ImageId'], df['PolygonWKT_Pix'])):\n",
    "        image_id = int(image_id.replace('AOI_1_RIO_img', ''))        \n",
    "        \n",
    "        polygon = loads(polygonwkt_pix)\n",
    "        segmentation = [[coord for coords in list(polygon.exterior.coords) for coord in coords[:2]]]\n",
    "        \n",
    "        area = polygon.area\n",
    "        bounds = polygon.bounds\n",
    "        bbox = [bounds[0], bounds[1], bounds[2]-bounds[0], bounds[3]-bounds[1]]\n",
    "        \n",
    "        category_id = 100\n",
    "        iscrowd = 0\n",
    "        \n",
    "        annotation = {\"id\": id, \"image_id\": image_id, \"segmentation\": segmentation, \"area\": area, \"bbox\": bbox, \"category_id\": category_id, \"iscrowd\": iscrowd}\n",
    "        annotations.append(annotation)\n",
    "    return annotations"
   ]
  },
  {
   "cell_type": "code",
   "execution_count": 28,
   "metadata": {},
   "outputs": [],
   "source": [
    "train_annotations[\"annotations\"] = get_annotations(train_df)\n",
    "val_annotations[\"annotations\"] = get_annotations(val_df)\n",
    "small_train_annotations[\"annotations\"] = get_annotations(small_train_df)\n",
    "small_val_annotations[\"annotations\"] = get_annotations(small_val_df)"
   ]
  },
  {
   "cell_type": "code",
   "execution_count": 29,
   "metadata": {},
   "outputs": [],
   "source": [
    "import json\n",
    "\n",
    "TRAIN_ANNOTATIONS_PATH = \"data/train/annotation.json\"\n",
    "TRAIN_ANNOTATIONS_SMALL_PATH = \"data/train/annotation-small.json\"\n",
    "\n",
    "VAL_ANNOTATIONS_PATH = \"data/val/annotation.json\"\n",
    "VAL_ANNOTATIONS_SMALL_PATH = \"data/val/annotation-small.json\"\n",
    "\n",
    "with open(TRAIN_ANNOTATIONS_PATH, 'w') as f:\n",
    "    json.dump(train_annotations, f)\n",
    "\n",
    "with open(TRAIN_ANNOTATIONS_SMALL_PATH, 'w') as f:\n",
    "    json.dump(small_train_annotations, f)\n",
    "\n",
    "with open(VAL_ANNOTATIONS_PATH, 'w') as f:\n",
    "    json.dump(val_annotations, f)\n",
    "\n",
    "with open(VAL_ANNOTATIONS_SMALL_PATH, 'w') as f:\n",
    "    json.dump(small_val_annotations, f)"
   ]
  }
 ],
 "metadata": {
  "kernelspec": {
   "display_name": "Python 3",
   "language": "python",
   "name": "python3"
  },
  "language_info": {
   "codemirror_mode": {
    "name": "ipython",
    "version": 3
   },
   "file_extension": ".py",
   "mimetype": "text/x-python",
   "name": "python",
   "nbconvert_exporter": "python",
   "pygments_lexer": "ipython3",
   "version": "3.5.3"
  }
 },
 "nbformat": 4,
 "nbformat_minor": 2
}
